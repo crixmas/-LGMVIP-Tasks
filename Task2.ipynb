{
  "nbformat": 4,
  "nbformat_minor": 0,
  "metadata": {
    "colab": {
      "name": "Untitled1.ipynb",
      "provenance": []
    },
    "kernelspec": {
      "name": "python3",
      "display_name": "Python 3"
    },
    "language_info": {
      "name": "python"
    }
  },
  "cells": [
    {
      "cell_type": "code",
      "execution_count": 1,
      "metadata": {
        "id": "UJQp7vNpyZvk"
      },
      "outputs": [],
      "source": [
        "import pandas as pd\n",
        "import numpy as np\n",
        "import matplotlib.pyplot as plt\n",
        "%matplotlib inline\n",
        "import seaborn as sns\n",
        "import warnings\n",
        "from sklearn.metrics import mean_squared_error\n",
        "warnings.filterwarnings(action=\"ignore\")\n",
        "plt.style.use([\"seaborn-bright\",\"dark_background\"])"
      ]
    },
    {
      "cell_type": "code",
      "source": [
        "data = pd.read_csv(\"/content/Stock.csv\")\n",
        "data.head()"
      ],
      "metadata": {
        "colab": {
          "base_uri": "https://localhost:8080/",
          "height": 206
        },
        "id": "LTrdctYtzIul",
        "outputId": "9a3bd36f-bb34-4e4d-f565-2ad720fcc7b6"
      },
      "execution_count": 2,
      "outputs": [
        {
          "output_type": "execute_result",
          "data": {
            "text/html": [
              "\n",
              "  <div id=\"df-d4120548-0e42-4239-b9e8-1e77681cedc1\">\n",
              "    <div class=\"colab-df-container\">\n",
              "      <div>\n",
              "<style scoped>\n",
              "    .dataframe tbody tr th:only-of-type {\n",
              "        vertical-align: middle;\n",
              "    }\n",
              "\n",
              "    .dataframe tbody tr th {\n",
              "        vertical-align: top;\n",
              "    }\n",
              "\n",
              "    .dataframe thead th {\n",
              "        text-align: right;\n",
              "    }\n",
              "</style>\n",
              "<table border=\"1\" class=\"dataframe\">\n",
              "  <thead>\n",
              "    <tr style=\"text-align: right;\">\n",
              "      <th></th>\n",
              "      <th>Date</th>\n",
              "      <th>Open</th>\n",
              "      <th>High</th>\n",
              "      <th>Low</th>\n",
              "      <th>Last</th>\n",
              "      <th>Close</th>\n",
              "      <th>Total Trade Quantity</th>\n",
              "      <th>Turnover (Lacs)</th>\n",
              "    </tr>\n",
              "  </thead>\n",
              "  <tbody>\n",
              "    <tr>\n",
              "      <th>0</th>\n",
              "      <td>2018-09-28</td>\n",
              "      <td>234.05</td>\n",
              "      <td>235.95</td>\n",
              "      <td>230.20</td>\n",
              "      <td>233.50</td>\n",
              "      <td>233.75</td>\n",
              "      <td>3069914</td>\n",
              "      <td>7162.35</td>\n",
              "    </tr>\n",
              "    <tr>\n",
              "      <th>1</th>\n",
              "      <td>2018-09-27</td>\n",
              "      <td>234.55</td>\n",
              "      <td>236.80</td>\n",
              "      <td>231.10</td>\n",
              "      <td>233.80</td>\n",
              "      <td>233.25</td>\n",
              "      <td>5082859</td>\n",
              "      <td>11859.95</td>\n",
              "    </tr>\n",
              "    <tr>\n",
              "      <th>2</th>\n",
              "      <td>2018-09-26</td>\n",
              "      <td>240.00</td>\n",
              "      <td>240.00</td>\n",
              "      <td>232.50</td>\n",
              "      <td>235.00</td>\n",
              "      <td>234.25</td>\n",
              "      <td>2240909</td>\n",
              "      <td>5248.60</td>\n",
              "    </tr>\n",
              "    <tr>\n",
              "      <th>3</th>\n",
              "      <td>2018-09-25</td>\n",
              "      <td>233.30</td>\n",
              "      <td>236.75</td>\n",
              "      <td>232.00</td>\n",
              "      <td>236.25</td>\n",
              "      <td>236.10</td>\n",
              "      <td>2349368</td>\n",
              "      <td>5503.90</td>\n",
              "    </tr>\n",
              "    <tr>\n",
              "      <th>4</th>\n",
              "      <td>2018-09-24</td>\n",
              "      <td>233.55</td>\n",
              "      <td>239.20</td>\n",
              "      <td>230.75</td>\n",
              "      <td>234.00</td>\n",
              "      <td>233.30</td>\n",
              "      <td>3423509</td>\n",
              "      <td>7999.55</td>\n",
              "    </tr>\n",
              "  </tbody>\n",
              "</table>\n",
              "</div>\n",
              "      <button class=\"colab-df-convert\" onclick=\"convertToInteractive('df-d4120548-0e42-4239-b9e8-1e77681cedc1')\"\n",
              "              title=\"Convert this dataframe to an interactive table.\"\n",
              "              style=\"display:none;\">\n",
              "        \n",
              "  <svg xmlns=\"http://www.w3.org/2000/svg\" height=\"24px\"viewBox=\"0 0 24 24\"\n",
              "       width=\"24px\">\n",
              "    <path d=\"M0 0h24v24H0V0z\" fill=\"none\"/>\n",
              "    <path d=\"M18.56 5.44l.94 2.06.94-2.06 2.06-.94-2.06-.94-.94-2.06-.94 2.06-2.06.94zm-11 1L8.5 8.5l.94-2.06 2.06-.94-2.06-.94L8.5 2.5l-.94 2.06-2.06.94zm10 10l.94 2.06.94-2.06 2.06-.94-2.06-.94-.94-2.06-.94 2.06-2.06.94z\"/><path d=\"M17.41 7.96l-1.37-1.37c-.4-.4-.92-.59-1.43-.59-.52 0-1.04.2-1.43.59L10.3 9.45l-7.72 7.72c-.78.78-.78 2.05 0 2.83L4 21.41c.39.39.9.59 1.41.59.51 0 1.02-.2 1.41-.59l7.78-7.78 2.81-2.81c.8-.78.8-2.07 0-2.86zM5.41 20L4 18.59l7.72-7.72 1.47 1.35L5.41 20z\"/>\n",
              "  </svg>\n",
              "      </button>\n",
              "      \n",
              "  <style>\n",
              "    .colab-df-container {\n",
              "      display:flex;\n",
              "      flex-wrap:wrap;\n",
              "      gap: 12px;\n",
              "    }\n",
              "\n",
              "    .colab-df-convert {\n",
              "      background-color: #E8F0FE;\n",
              "      border: none;\n",
              "      border-radius: 50%;\n",
              "      cursor: pointer;\n",
              "      display: none;\n",
              "      fill: #1967D2;\n",
              "      height: 32px;\n",
              "      padding: 0 0 0 0;\n",
              "      width: 32px;\n",
              "    }\n",
              "\n",
              "    .colab-df-convert:hover {\n",
              "      background-color: #E2EBFA;\n",
              "      box-shadow: 0px 1px 2px rgba(60, 64, 67, 0.3), 0px 1px 3px 1px rgba(60, 64, 67, 0.15);\n",
              "      fill: #174EA6;\n",
              "    }\n",
              "\n",
              "    [theme=dark] .colab-df-convert {\n",
              "      background-color: #3B4455;\n",
              "      fill: #D2E3FC;\n",
              "    }\n",
              "\n",
              "    [theme=dark] .colab-df-convert:hover {\n",
              "      background-color: #434B5C;\n",
              "      box-shadow: 0px 1px 3px 1px rgba(0, 0, 0, 0.15);\n",
              "      filter: drop-shadow(0px 1px 2px rgba(0, 0, 0, 0.3));\n",
              "      fill: #FFFFFF;\n",
              "    }\n",
              "  </style>\n",
              "\n",
              "      <script>\n",
              "        const buttonEl =\n",
              "          document.querySelector('#df-d4120548-0e42-4239-b9e8-1e77681cedc1 button.colab-df-convert');\n",
              "        buttonEl.style.display =\n",
              "          google.colab.kernel.accessAllowed ? 'block' : 'none';\n",
              "\n",
              "        async function convertToInteractive(key) {\n",
              "          const element = document.querySelector('#df-d4120548-0e42-4239-b9e8-1e77681cedc1');\n",
              "          const dataTable =\n",
              "            await google.colab.kernel.invokeFunction('convertToInteractive',\n",
              "                                                     [key], {});\n",
              "          if (!dataTable) return;\n",
              "\n",
              "          const docLinkHtml = 'Like what you see? Visit the ' +\n",
              "            '<a target=\"_blank\" href=https://colab.research.google.com/notebooks/data_table.ipynb>data table notebook</a>'\n",
              "            + ' to learn more about interactive tables.';\n",
              "          element.innerHTML = '';\n",
              "          dataTable['output_type'] = 'display_data';\n",
              "          await google.colab.output.renderOutput(dataTable, element);\n",
              "          const docLink = document.createElement('div');\n",
              "          docLink.innerHTML = docLinkHtml;\n",
              "          element.appendChild(docLink);\n",
              "        }\n",
              "      </script>\n",
              "    </div>\n",
              "  </div>\n",
              "  "
            ],
            "text/plain": [
              "         Date    Open    High  ...   Close  Total Trade Quantity  Turnover (Lacs)\n",
              "0  2018-09-28  234.05  235.95  ...  233.75               3069914          7162.35\n",
              "1  2018-09-27  234.55  236.80  ...  233.25               5082859         11859.95\n",
              "2  2018-09-26  240.00  240.00  ...  234.25               2240909          5248.60\n",
              "3  2018-09-25  233.30  236.75  ...  236.10               2349368          5503.90\n",
              "4  2018-09-24  233.55  239.20  ...  233.30               3423509          7999.55\n",
              "\n",
              "[5 rows x 8 columns]"
            ]
          },
          "metadata": {},
          "execution_count": 2
        }
      ]
    },
    {
      "cell_type": "code",
      "source": [
        "data[\"Date\"] = pd.to_datetime(data[\"Date\"])\n",
        "data = data.sort_values(by=\"Date\")"
      ],
      "metadata": {
        "id": "m0gnMobDzU3l"
      },
      "execution_count": 3,
      "outputs": []
    },
    {
      "cell_type": "code",
      "source": [
        "data.index = data[\"Date\"]"
      ],
      "metadata": {
        "id": "Am3d9FT0zVko"
      },
      "execution_count": 4,
      "outputs": []
    },
    {
      "cell_type": "code",
      "source": [
        "train_size = len(data[:'2017'])"
      ],
      "metadata": {
        "id": "6-ndGTDKzZtO"
      },
      "execution_count": 5,
      "outputs": []
    },
    {
      "cell_type": "code",
      "source": [
        "df = data[\"Close\"].reset_index()\n",
        "df.drop(columns=[\"Date\"],inplace=True)\n",
        "df.head()"
      ],
      "metadata": {
        "colab": {
          "base_uri": "https://localhost:8080/",
          "height": 206
        },
        "id": "NeHUlD0dzcw0",
        "outputId": "a1a68c30-4f94-4323-d06f-480b64197b1e"
      },
      "execution_count": 6,
      "outputs": [
        {
          "output_type": "execute_result",
          "data": {
            "text/html": [
              "\n",
              "  <div id=\"df-73bd26b4-4eb8-4fc6-8519-35d1ba655b89\">\n",
              "    <div class=\"colab-df-container\">\n",
              "      <div>\n",
              "<style scoped>\n",
              "    .dataframe tbody tr th:only-of-type {\n",
              "        vertical-align: middle;\n",
              "    }\n",
              "\n",
              "    .dataframe tbody tr th {\n",
              "        vertical-align: top;\n",
              "    }\n",
              "\n",
              "    .dataframe thead th {\n",
              "        text-align: right;\n",
              "    }\n",
              "</style>\n",
              "<table border=\"1\" class=\"dataframe\">\n",
              "  <thead>\n",
              "    <tr style=\"text-align: right;\">\n",
              "      <th></th>\n",
              "      <th>Close</th>\n",
              "    </tr>\n",
              "  </thead>\n",
              "  <tbody>\n",
              "    <tr>\n",
              "      <th>0</th>\n",
              "      <td>121.55</td>\n",
              "    </tr>\n",
              "    <tr>\n",
              "      <th>1</th>\n",
              "      <td>120.90</td>\n",
              "    </tr>\n",
              "    <tr>\n",
              "      <th>2</th>\n",
              "      <td>120.65</td>\n",
              "    </tr>\n",
              "    <tr>\n",
              "      <th>3</th>\n",
              "      <td>117.60</td>\n",
              "    </tr>\n",
              "    <tr>\n",
              "      <th>4</th>\n",
              "      <td>118.65</td>\n",
              "    </tr>\n",
              "  </tbody>\n",
              "</table>\n",
              "</div>\n",
              "      <button class=\"colab-df-convert\" onclick=\"convertToInteractive('df-73bd26b4-4eb8-4fc6-8519-35d1ba655b89')\"\n",
              "              title=\"Convert this dataframe to an interactive table.\"\n",
              "              style=\"display:none;\">\n",
              "        \n",
              "  <svg xmlns=\"http://www.w3.org/2000/svg\" height=\"24px\"viewBox=\"0 0 24 24\"\n",
              "       width=\"24px\">\n",
              "    <path d=\"M0 0h24v24H0V0z\" fill=\"none\"/>\n",
              "    <path d=\"M18.56 5.44l.94 2.06.94-2.06 2.06-.94-2.06-.94-.94-2.06-.94 2.06-2.06.94zm-11 1L8.5 8.5l.94-2.06 2.06-.94-2.06-.94L8.5 2.5l-.94 2.06-2.06.94zm10 10l.94 2.06.94-2.06 2.06-.94-2.06-.94-.94-2.06-.94 2.06-2.06.94z\"/><path d=\"M17.41 7.96l-1.37-1.37c-.4-.4-.92-.59-1.43-.59-.52 0-1.04.2-1.43.59L10.3 9.45l-7.72 7.72c-.78.78-.78 2.05 0 2.83L4 21.41c.39.39.9.59 1.41.59.51 0 1.02-.2 1.41-.59l7.78-7.78 2.81-2.81c.8-.78.8-2.07 0-2.86zM5.41 20L4 18.59l7.72-7.72 1.47 1.35L5.41 20z\"/>\n",
              "  </svg>\n",
              "      </button>\n",
              "      \n",
              "  <style>\n",
              "    .colab-df-container {\n",
              "      display:flex;\n",
              "      flex-wrap:wrap;\n",
              "      gap: 12px;\n",
              "    }\n",
              "\n",
              "    .colab-df-convert {\n",
              "      background-color: #E8F0FE;\n",
              "      border: none;\n",
              "      border-radius: 50%;\n",
              "      cursor: pointer;\n",
              "      display: none;\n",
              "      fill: #1967D2;\n",
              "      height: 32px;\n",
              "      padding: 0 0 0 0;\n",
              "      width: 32px;\n",
              "    }\n",
              "\n",
              "    .colab-df-convert:hover {\n",
              "      background-color: #E2EBFA;\n",
              "      box-shadow: 0px 1px 2px rgba(60, 64, 67, 0.3), 0px 1px 3px 1px rgba(60, 64, 67, 0.15);\n",
              "      fill: #174EA6;\n",
              "    }\n",
              "\n",
              "    [theme=dark] .colab-df-convert {\n",
              "      background-color: #3B4455;\n",
              "      fill: #D2E3FC;\n",
              "    }\n",
              "\n",
              "    [theme=dark] .colab-df-convert:hover {\n",
              "      background-color: #434B5C;\n",
              "      box-shadow: 0px 1px 3px 1px rgba(0, 0, 0, 0.15);\n",
              "      filter: drop-shadow(0px 1px 2px rgba(0, 0, 0, 0.3));\n",
              "      fill: #FFFFFF;\n",
              "    }\n",
              "  </style>\n",
              "\n",
              "      <script>\n",
              "        const buttonEl =\n",
              "          document.querySelector('#df-73bd26b4-4eb8-4fc6-8519-35d1ba655b89 button.colab-df-convert');\n",
              "        buttonEl.style.display =\n",
              "          google.colab.kernel.accessAllowed ? 'block' : 'none';\n",
              "\n",
              "        async function convertToInteractive(key) {\n",
              "          const element = document.querySelector('#df-73bd26b4-4eb8-4fc6-8519-35d1ba655b89');\n",
              "          const dataTable =\n",
              "            await google.colab.kernel.invokeFunction('convertToInteractive',\n",
              "                                                     [key], {});\n",
              "          if (!dataTable) return;\n",
              "\n",
              "          const docLinkHtml = 'Like what you see? Visit the ' +\n",
              "            '<a target=\"_blank\" href=https://colab.research.google.com/notebooks/data_table.ipynb>data table notebook</a>'\n",
              "            + ' to learn more about interactive tables.';\n",
              "          element.innerHTML = '';\n",
              "          dataTable['output_type'] = 'display_data';\n",
              "          await google.colab.output.renderOutput(dataTable, element);\n",
              "          const docLink = document.createElement('div');\n",
              "          docLink.innerHTML = docLinkHtml;\n",
              "          element.appendChild(docLink);\n",
              "        }\n",
              "      </script>\n",
              "    </div>\n",
              "  </div>\n",
              "  "
            ],
            "text/plain": [
              "    Close\n",
              "0  121.55\n",
              "1  120.90\n",
              "2  120.65\n",
              "3  117.60\n",
              "4  118.65"
            ]
          },
          "metadata": {},
          "execution_count": 6
        }
      ]
    },
    {
      "cell_type": "code",
      "source": [
        "plt.figure(figsize=(20,6))\n",
        "plt.plot(data['Close'][:'2017'],color=\"y\")\n",
        "plt.plot(data['Close']['2018':],color=\"r\")\n",
        "plt.title(\"Close Price History\",fontsize=20)\n",
        "plt.legend(['Till 2017','After 2017'])\n",
        "plt.show()"
      ],
      "metadata": {
        "colab": {
          "base_uri": "https://localhost:8080/",
          "height": 395
        },
        "id": "Hg5jahjUzf-Q",
        "outputId": "047ff3e1-5a5b-47d3-8509-4097b39afcdb"
      },
      "execution_count": 7,
      "outputs": [
        {
          "output_type": "display_data",
          "data": {
            "image/png": "[encoded data removed]",
            "text/plain": [
              "<Figure size 1440x432 with 1 Axes>"
            ]
          },
          "metadata": {
            "needs_background": "dark"
          }
        }
      ]
    },
    {
      "cell_type": "code",
      "source": [
        "from sklearn.preprocessing import MinMaxScaler\n",
        "scale = MinMaxScaler(feature_range=(0,1))\n",
        "df = scale.fit_transform(np.array(df).reshape(-1,1))"
      ],
      "metadata": {
        "id": "7-G0aQxszkWF"
      },
      "execution_count": 8,
      "outputs": []
    },
    {
      "cell_type": "code",
      "source": [
        "test_size = len(df)-train_size\n",
        "train_data , test_data = df[0:train_size,:],df[train_size:len(df),:1]"
      ],
      "metadata": {
        "id": "eczOVmsdzoNz"
      },
      "execution_count": 9,
      "outputs": []
    },
    {
      "cell_type": "code",
      "source": [
        "train_data.shape, test_data.shape, df.shape"
      ],
      "metadata": {
        "colab": {
          "base_uri": "https://localhost:8080/"
        },
        "id": "amSUhCUszrD9",
        "outputId": "fdb51fa3-e8ed-4afe-d5e1-fd2197d6eacb"
      },
      "execution_count": 10,
      "outputs": [
        {
          "output_type": "execute_result",
          "data": {
            "text/plain": [
              "((1850, 1), (185, 1), (2035, 1))"
            ]
          },
          "metadata": {},
          "execution_count": 10
        }
      ]
    },
    {
      "cell_type": "code",
      "source": [
        "def create_data(lower,upper):\n",
        "    X = []\n",
        "    y = []\n",
        "    time_step = 80\n",
        "    for i in range(lower,upper):\n",
        "        X.append(df[i-time_step:i,0])\n",
        "        y.append(df[i,0])\n",
        "    X, y = np.array(X), np.array(y)\n",
        "    X = np.reshape(X, (X.shape[0],X.shape[1],1))\n",
        "    return X,y"
      ],
      "metadata": {
        "id": "ezXo0WN-zub1"
      },
      "execution_count": 11,
      "outputs": []
    },
    {
      "cell_type": "code",
      "source": [
        "X_train, y_train = create_data(80,train_size)"
      ],
      "metadata": {
        "id": "Zk0Y6xbZzw36"
      },
      "execution_count": 12,
      "outputs": []
    },
    {
      "cell_type": "code",
      "source": [
        "X_test, y_test = create_data(1850,len(df))"
      ],
      "metadata": {
        "id": "jOWWEfI0zzsC"
      },
      "execution_count": 13,
      "outputs": []
    },
    {
      "cell_type": "code",
      "source": [
        "X_train.shape, y_train.shape, X_test.shape, y_test.shape"
      ],
      "metadata": {
        "colab": {
          "base_uri": "https://localhost:8080/"
        },
        "id": "LGqP-CzBz234",
        "outputId": "8782ede2-1bb1-49f9-a054-2537a64970a3"
      },
      "execution_count": 14,
      "outputs": [
        {
          "output_type": "execute_result",
          "data": {
            "text/plain": [
              "((1770, 80, 1), (1770,), (185, 80, 1), (185,))"
            ]
          },
          "metadata": {},
          "execution_count": 14
        }
      ]
    },
    {
      "cell_type": "code",
      "source": [
        "from tensorflow import keras\n",
        "from keras import models\n",
        "from tensorflow.keras.layers import Dense, Dropout, LSTM"
      ],
      "metadata": {
        "id": "y8TW5um1z6bL"
      },
      "execution_count": 15,
      "outputs": []
    },
    {
      "cell_type": "code",
      "source": [
        "model = models.Sequential()\n",
        "model.add(LSTM(100, return_sequences=True,input_shape=(80,1)))\n",
        "model.add(Dropout(0.5))\n",
        "model.add(LSTM(50, return_sequences=True))\n",
        "model.add(Dropout(0.2))\n",
        "model.add(LSTM(50))\n",
        "model.add(Dense(1))"
      ],
      "metadata": {
        "id": "3U4R-jyAz-V7"
      },
      "execution_count": 16,
      "outputs": []
    },
    {
      "cell_type": "code",
      "source": [
        "model.compile(loss='mean_squared_error',optimizer='adam')\n",
        "model.summary()"
      ],
      "metadata": {
        "colab": {
          "base_uri": "https://localhost:8080/"
        },
        "id": "WZGq6qr40DAG",
        "outputId": "7fb9e37f-b61e-4177-b4db-20d0572a25b7"
      },
      "execution_count": 17,
      "outputs": [
        {
          "output_type": "stream",
          "name": "stdout",
          "text": [
            "Model: \"sequential\"\n",
            "_________________________________________________________________\n",
            " Layer (type)                Output Shape              Param #   \n",
            "=================================================================\n",
            " lstm (LSTM)                 (None, 80, 100)           40800     \n",
            "                                                                 \n",
            " dropout (Dropout)           (None, 80, 100)           0         \n",
            "                                                                 \n",
            " lstm_1 (LSTM)               (None, 80, 50)            30200     \n",
            "                                                                 \n",
            " dropout_1 (Dropout)         (None, 80, 50)            0         \n",
            "                                                                 \n",
            " lstm_2 (LSTM)               (None, 50)                20200     \n",
            "                                                                 \n",
            " dense (Dense)               (None, 1)                 51        \n",
            "                                                                 \n",
            "=================================================================\n",
            "Total params: 91,251\n",
            "Trainable params: 91,251\n",
            "Non-trainable params: 0\n",
            "_________________________________________________________________\n"
          ]
        }
      ]
    },
    {
      "cell_type": "code",
      "source": [
        "hist = model.fit(X_train,y_train,validation_data=(X_test,y_test),epochs=50,batch_size=80,verbose=1)"
      ],
      "metadata": {
        "colab": {
          "base_uri": "https://localhost:8080/"
        },
        "id": "HHgDWhdz0IIp",
        "outputId": "04b895ff-c9fe-48c8-cb2e-d3e35ba9a7fb"
      },
      "execution_count": 18,
      "outputs": [
        {
          "output_type": "stream",
          "name": "stdout",
          "text": [
            "Epoch 1/50\n",
            "23/23 [==============================] - 16s 368ms/step - loss: 0.0127 - val_loss: 0.0035\n",
            "Epoch 2/50\n",
            "23/23 [==============================] - 6s 275ms/step - loss: 0.0016 - val_loss: 0.0493\n",
            "Epoch 3/50\n",
            "23/23 [==============================] - 6s 280ms/step - loss: 0.0013 - val_loss: 0.0124\n",
            "Epoch 4/50\n",
            "23/23 [==============================] - 5s 232ms/step - loss: 0.0011 - val_loss: 0.0107\n",
            "Epoch 5/50\n",
            "23/23 [==============================] - 7s 321ms/step - loss: 0.0010 - val_loss: 0.0107\n",
            "Epoch 6/50\n",
            "23/23 [==============================] - 5s 233ms/step - loss: 0.0010 - val_loss: 0.0156\n",
            "Epoch 7/50\n",
            "23/23 [==============================] - 8s 357ms/step - loss: 0.0010 - val_loss: 0.0062\n",
            "Epoch 8/50\n",
            "23/23 [==============================] - 6s 255ms/step - loss: 9.2149e-04 - val_loss: 0.0059\n",
            "Epoch 9/50\n",
            "23/23 [==============================] - 11s 472ms/step - loss: 9.8037e-04 - val_loss: 0.0117\n",
            "Epoch 10/50\n",
            "23/23 [==============================] - 10s 449ms/step - loss: 0.0011 - val_loss: 0.0055\n",
            "Epoch 11/50\n",
            "23/23 [==============================] - 8s 357ms/step - loss: 9.0282e-04 - val_loss: 0.0120\n",
            "Epoch 12/50\n",
            "23/23 [==============================] - 6s 266ms/step - loss: 8.9596e-04 - val_loss: 0.0044\n",
            "Epoch 13/50\n",
            "23/23 [==============================] - 9s 380ms/step - loss: 8.4715e-04 - val_loss: 0.0041\n",
            "Epoch 14/50\n",
            "23/23 [==============================] - 5s 235ms/step - loss: 8.2093e-04 - val_loss: 0.0178\n",
            "Epoch 15/50\n",
            "23/23 [==============================] - 5s 232ms/step - loss: 9.1192e-04 - val_loss: 0.0085\n",
            "Epoch 16/50\n",
            "23/23 [==============================] - 5s 234ms/step - loss: 8.5851e-04 - val_loss: 0.0054\n",
            "Epoch 17/50\n",
            "23/23 [==============================] - 5s 235ms/step - loss: 7.9268e-04 - val_loss: 0.0055\n",
            "Epoch 18/50\n",
            "23/23 [==============================] - 5s 235ms/step - loss: 8.3134e-04 - val_loss: 0.0023\n",
            "Epoch 19/50\n",
            "23/23 [==============================] - 5s 232ms/step - loss: 8.3093e-04 - val_loss: 0.0030\n",
            "Epoch 20/50\n",
            "23/23 [==============================] - 5s 232ms/step - loss: 7.6548e-04 - val_loss: 0.0078\n",
            "Epoch 21/50\n",
            "23/23 [==============================] - 5s 232ms/step - loss: 7.8730e-04 - val_loss: 0.0020\n",
            "Epoch 22/50\n",
            "23/23 [==============================] - 5s 234ms/step - loss: 7.8732e-04 - val_loss: 0.0052\n",
            "Epoch 23/50\n",
            "23/23 [==============================] - 5s 232ms/step - loss: 6.9862e-04 - val_loss: 0.0051\n",
            "Epoch 24/50\n",
            "23/23 [==============================] - 5s 233ms/step - loss: 6.6763e-04 - val_loss: 0.0071\n",
            "Epoch 25/50\n",
            "23/23 [==============================] - 6s 258ms/step - loss: 6.9678e-04 - val_loss: 0.0030\n",
            "Epoch 26/50\n",
            "23/23 [==============================] - 5s 233ms/step - loss: 6.8316e-04 - val_loss: 0.0048\n",
            "Epoch 27/50\n",
            "23/23 [==============================] - 5s 231ms/step - loss: 6.3697e-04 - val_loss: 0.0066\n",
            "Epoch 28/50\n",
            "23/23 [==============================] - 5s 231ms/step - loss: 7.5239e-04 - val_loss: 0.0048\n",
            "Epoch 29/50\n",
            "23/23 [==============================] - 5s 230ms/step - loss: 6.6326e-04 - val_loss: 0.0018\n",
            "Epoch 30/50\n",
            "23/23 [==============================] - 5s 231ms/step - loss: 7.2205e-04 - val_loss: 0.0082\n",
            "Epoch 31/50\n",
            "23/23 [==============================] - 6s 257ms/step - loss: 6.6742e-04 - val_loss: 0.0036\n",
            "Epoch 32/50\n",
            "23/23 [==============================] - 6s 255ms/step - loss: 6.2411e-04 - val_loss: 0.0023\n",
            "Epoch 33/50\n",
            "23/23 [==============================] - 5s 228ms/step - loss: 5.7682e-04 - val_loss: 0.0083\n",
            "Epoch 34/50\n",
            "23/23 [==============================] - 5s 232ms/step - loss: 5.7693e-04 - val_loss: 0.0035\n",
            "Epoch 35/50\n",
            "23/23 [==============================] - 5s 232ms/step - loss: 5.2617e-04 - val_loss: 0.0051\n",
            "Epoch 36/50\n",
            "23/23 [==============================] - 5s 232ms/step - loss: 5.7493e-04 - val_loss: 0.0027\n",
            "Epoch 37/50\n",
            "23/23 [==============================] - 5s 231ms/step - loss: 5.0888e-04 - val_loss: 0.0020\n",
            "Epoch 38/50\n",
            "23/23 [==============================] - 5s 233ms/step - loss: 5.3319e-04 - val_loss: 0.0058\n",
            "Epoch 39/50\n",
            "23/23 [==============================] - 5s 231ms/step - loss: 5.6514e-04 - val_loss: 0.0047\n",
            "Epoch 40/50\n",
            "23/23 [==============================] - 5s 234ms/step - loss: 4.9104e-04 - val_loss: 0.0039\n",
            "Epoch 41/50\n",
            "23/23 [==============================] - 5s 229ms/step - loss: 4.7915e-04 - val_loss: 0.0025\n",
            "Epoch 42/50\n",
            "23/23 [==============================] - 5s 233ms/step - loss: 4.7870e-04 - val_loss: 0.0022\n",
            "Epoch 43/50\n",
            "23/23 [==============================] - 5s 230ms/step - loss: 5.0792e-04 - val_loss: 0.0026\n",
            "Epoch 44/50\n",
            "23/23 [==============================] - 5s 234ms/step - loss: 4.5566e-04 - val_loss: 0.0021\n",
            "Epoch 45/50\n",
            "23/23 [==============================] - 5s 236ms/step - loss: 5.0943e-04 - val_loss: 0.0013\n",
            "Epoch 46/50\n",
            "23/23 [==============================] - 5s 231ms/step - loss: 5.3575e-04 - val_loss: 0.0083\n",
            "Epoch 47/50\n",
            "23/23 [==============================] - 5s 231ms/step - loss: 6.0543e-04 - val_loss: 0.0019\n",
            "Epoch 48/50\n",
            "23/23 [==============================] - 5s 234ms/step - loss: 4.8407e-04 - val_loss: 0.0018\n",
            "Epoch 49/50\n",
            "23/23 [==============================] - 5s 233ms/step - loss: 4.2248e-04 - val_loss: 0.0031\n",
            "Epoch 50/50\n",
            "23/23 [==============================] - 5s 231ms/step - loss: 4.1317e-04 - val_loss: 0.0029\n"
          ]
        }
      ]
    },
    {
      "cell_type": "code",
      "source": [
        "pd.DataFrame(hist.history).plot(figsize=(15,5))\n",
        "plt.grid(False)\n",
        "plt.show()"
      ],
      "metadata": {
        "colab": {
          "base_uri": "https://localhost:8080/",
          "height": 320
        },
        "id": "RfAZpXKX0LaH",
        "outputId": "9eff8ff6-e20d-4bea-92e1-df46a04de26a"
      },
      "execution_count": 19,
      "outputs": [
        {
          "output_type": "display_data",
          "data": {
            "image/png": "[encoded data removed]",
            "text/plain": [
              "<Figure size 1080x360 with 1 Axes>"
            ]
          },
          "metadata": {
            "needs_background": "dark"
          }
        }
      ]
    },
    {
      "cell_type": "code",
      "source": [
        "train_pred = model.predict(X_train)\n",
        "test_pred = model.predict(X_test)"
      ],
      "metadata": {
        "id": "Ds1WRxHW0PCt"
      },
      "execution_count": 20,
      "outputs": []
    },
    {
      "cell_type": "code",
      "source": [
        "train_pred = scale.inverse_transform(train_pred)\n",
        "test_pred = scale.inverse_transform(test_pred)"
      ],
      "metadata": {
        "id": "kSRVbJXl0PFP"
      },
      "execution_count": 21,
      "outputs": []
    },
    {
      "cell_type": "code",
      "source": [
        "print(f'Training error : {np.sqrt(mean_squared_error(y_train,train_pred))}')"
      ],
      "metadata": {
        "colab": {
          "base_uri": "https://localhost:8080/"
        },
        "id": "NbLH47sX0PIw",
        "outputId": "7ab6359a-233d-4a37-eb88-6cf8905aed54"
      },
      "execution_count": 22,
      "outputs": [
        {
          "output_type": "stream",
          "name": "stdout",
          "text": [
            "Training error : 142.7438835473041\n"
          ]
        }
      ]
    },
    {
      "cell_type": "code",
      "source": [
        "df1 = pd.DataFrame(data['Close']).iloc[80:,:]"
      ],
      "metadata": {
        "id": "xxFehO370XxQ"
      },
      "execution_count": 23,
      "outputs": []
    },
    {
      "cell_type": "code",
      "source": [
        "predicted = []\n",
        "predicted.extend(train_pred)\n",
        "predicted.extend(test_pred)"
      ],
      "metadata": {
        "id": "RzbJ3zGf0X2y"
      },
      "execution_count": 24,
      "outputs": []
    },
    {
      "cell_type": "code",
      "source": [
        "df1['Predicted'] = predicted"
      ],
      "metadata": {
        "id": "h-ppLiW50X6O"
      },
      "execution_count": 25,
      "outputs": []
    },
    {
      "cell_type": "code",
      "source": [
        "plt.figure(figsize=(20,7))\n",
        "plt.plot(df1['Close'],color='r')\n",
        "plt.plot(df1['Predicted'].iloc[:train_size-80],color = 'lime')\n",
        "plt.plot(df1['Predicted'].iloc[train_size-80:],color = 'b')\n",
        "plt.legend([' Actual',' Train Predicted',' Test Predicted'],loc=\"upper left\")\n",
        "plt.title('Actual vs Predicted',fontsize=20)\n",
        "plt.show()"
      ],
      "metadata": {
        "colab": {
          "base_uri": "https://localhost:8080/",
          "height": 449
        },
        "id": "QZMOLXYJ0gVe",
        "outputId": "284c343f-9e05-4a3e-c07b-db9fa1e3f5fb"
      },
      "execution_count": 26,
      "outputs": [
        {
          "output_type": "display_data",
          "data": {
            "image/png": "[encoded data removed]",
            "text/plain": [
              "<Figure size 1440x504 with 1 Axes>"
            ]
          },
          "metadata": {
            "needs_background": "dark"
          }
        }
      ]
    },
    {
      "cell_type": "code",
      "source": [
        ""
      ],
      "metadata": {
        "id": "PuSyGzKv0gYJ"
      },
      "execution_count": 26,
      "outputs": []
    },
    {
      "cell_type": "code",
      "source": [
        ""
      ],
      "metadata": {
        "id": "eiwd-2Ma0gbq"
      },
      "execution_count": null,
      "outputs": []
    }
  ]
}